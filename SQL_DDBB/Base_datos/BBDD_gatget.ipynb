{
 "cells": [
  {
   "cell_type": "code",
   "execution_count": null,
   "metadata": {},
   "outputs": [],
   "source": [
    "import pandas as pd\n",
    "import sqlite3 \n",
    "\n",
    "connection = sqlite3.connect(\"BBDD_gatget.db\")\n",
    "\n",
    "cursor_gestion = connection.cursor()"
   ]
  },
  {
   "cell_type": "markdown",
   "metadata": {},
   "source": [
    "# PROVEEDORES\n",
    "\n",
    "\"id\" (Primary key)\n",
    "\"nombre\" (Nombre)\n",
    "\"direccion\" (Direccion)\n",
    "\"ciudad\" (Ciudad)\n",
    "\"provincia\"(Provincia)\n",
    "\n"
   ]
  },
  {
   "cell_type": "code",
   "execution_count": null,
   "metadata": {},
   "outputs": [],
   "source": [
    "query_create = \"\"\"\n",
    "CREATE TABLE Proveedores(\n",
    "    id INT PRIMARY KEY,\n",
    "    nombre VARCHAR (100) NOT NULL,\n",
    "    direccion VARCHAR(255),\n",
    "    ciudad VARCHAR (100),\n",
    "    provincia VARCHAR(100)\n",
    ");\n",
    "\"\"\"\n",
    "\n",
    "cursor_gestion.execute(query_create)"
   ]
  },
  {
   "cell_type": "markdown",
   "metadata": {},
   "source": [
    "# PIEZAS\n",
    "\n",
    "\"id\"(Primary key)\n",
    "\"nombre\"(Nombre)\n",
    "\"color\"(Color)\n",
    "\"precio\"(Precio)\n",
    "\"categoria_id\"(Foreign Key a CATEGORIAS)\n"
   ]
  },
  {
   "cell_type": "code",
   "execution_count": null,
   "metadata": {},
   "outputs": [],
   "source": [
    "query_create = \"\"\"\n",
    "CREATE TABLE Piezas (\n",
    "    id INT PRIMARY KEY,\n",
    "    nombre VARCHAR(100) NOT NULL,\n",
    "    color VARCHAR(50),\n",
    "    precio DECIMAL(10, 2),\n",
    "    categoria_id INT,\n",
    "    FOREIGN KEY (categoria_id) REFERENCES Categorías(id)\n",
    ");\n",
    "\"\"\"\n",
    "cursor_gestion.execute(query_create)"
   ]
  },
  {
   "cell_type": "markdown",
   "metadata": {},
   "source": [
    "# CATEGORIAS\n",
    "\n",
    "\"id\" (Primary KEY)\n",
    "\"nombre\"(Nombre)"
   ]
  },
  {
   "cell_type": "code",
   "execution_count": null,
   "metadata": {},
   "outputs": [],
   "source": [
    "query_create = \"\"\"\n",
    "CREATE TABLE Categorías (\n",
    "    id INT PRIMARY KEY,\n",
    "    nombre VARCHAR(100) NOT NULL\n",
    ");\n",
    "\"\"\"\n",
    "cursor_gestion.execute(query_create)"
   ]
  },
  {
   "cell_type": "markdown",
   "metadata": {},
   "source": [
    "# SUMINISTROS\n",
    "\n",
    "\"id\" (Primary Key)\n",
    "\"proveedor_id\"(FOREIGN KEY a PROVEEDORES)\n",
    "\"pieza_id\"(FOREIGN KEY a PIEZAS)\n",
    "\"fecha\" (Fecha de suministro)\n",
    "\"cantidad\"(Cantidad suministrada)"
   ]
  },
  {
   "cell_type": "code",
   "execution_count": null,
   "metadata": {},
   "outputs": [],
   "source": [
    "query_create = \"\"\"\n",
    "CREATE TABLE Suministros (\n",
    "    id INT PRIMARY KEY,\n",
    "    proveedores_id INT,\n",
    "    pieza_id INT,\n",
    "    fecha DATE,\n",
    "    cantidad INT,\n",
    "    FOREIGN KEY (proveedores_id) REFERENCES Proveedores(id),\n",
    "    FOREIGN KEY (pieza_id) REFERENCES Piezas(id)\n",
    ");\n",
    "\"\"\"\n",
    "\n",
    "cursor_gestion.execute(query_create)"
   ]
  },
  {
   "cell_type": "markdown",
   "metadata": {},
   "source": []
  },
  {
   "cell_type": "markdown",
   "metadata": {},
   "source": [
    "- Un proveedor puede suministrar múltiples piezas en diferentes fechas (one to many entre Proveedores y Suministros).\n",
    "Una pieza puede ser suministrada por múltiples proveedores en diferentes fechas (one to many entre Piezas y Suministros).\n",
    "Una pieza pertenece a una categoría (one to one entre Categorías y Piezas)."
   ]
  },
  {
   "cell_type": "code",
   "execution_count": null,
   "metadata": {},
   "outputs": [],
   "source": [
    "query= '''\n",
    "INSERT INTO \n",
    "Proveedores (id, nombre, direccion, ciudad, provincia) \n",
    "VALUES (1, 'Proveedor A', 'Calle 123', 'Ciudad A', 'Provincia A');\n",
    "'''\n",
    "cursor_gestion.execute(query)\n"
   ]
  },
  {
   "cell_type": "code",
   "execution_count": null,
   "metadata": {},
   "outputs": [],
   "source": [
    "query = '''\n",
    "SELECT *\n",
    "FROM Proveedores\n",
    "'''\n",
    "cursor_gestion.execute(query)"
   ]
  },
  {
   "cell_type": "code",
   "execution_count": null,
   "metadata": {},
   "outputs": [],
   "source": [
    "\n",
    "\n",
    "cursor_gestion.execute(query)\n",
    "pd.read_sql(query, connection)"
   ]
  },
  {
   "cell_type": "code",
   "execution_count": null,
   "metadata": {},
   "outputs": [],
   "source": []
  }
 ],
 "metadata": {
  "kernelspec": {
   "display_name": "Python 3",
   "language": "python",
   "name": "python3"
  },
  "language_info": {
   "codemirror_mode": {
    "name": "ipython",
    "version": 3
   },
   "file_extension": ".py",
   "mimetype": "text/x-python",
   "name": "python",
   "nbconvert_exporter": "python",
   "pygments_lexer": "ipython3",
   "version": "3.12.3"
  }
 },
 "nbformat": 4,
 "nbformat_minor": 4
}
